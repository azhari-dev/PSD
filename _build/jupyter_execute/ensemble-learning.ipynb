{
 "cells": [
  {
   "cell_type": "code",
   "execution_count": 1,
   "id": "12cf6700",
   "metadata": {},
   "outputs": [
    {
     "ename": "ModuleNotFoundError",
     "evalue": "No module named 'sklearn'",
     "output_type": "error",
     "traceback": [
      "\u001b[31m-------------------------------------------------\u001b[39m",
      "\u001b[31mModuleNotFoundError\u001b[39mTraceback (most recent call last)",
      "\u001b[36mCell\u001b[39m\u001b[36m \u001b[39m\u001b[32mIn[1]\u001b[39m\u001b[32m, line 2\u001b[39m\n\u001b[32m      1\u001b[39m \u001b[38;5;28;01mimport\u001b[39;00m\u001b[38;5;250m \u001b[39m\u001b[34;01mpandas\u001b[39;00m\u001b[38;5;250m \u001b[39m\u001b[38;5;28;01mas\u001b[39;00m\u001b[38;5;250m \u001b[39m\u001b[34;01mpd\u001b[39;00m\n\u001b[32m----> \u001b[39m\u001b[32m2\u001b[39m \u001b[38;5;28;01mfrom\u001b[39;00m\u001b[38;5;250m \u001b[39m\u001b[34;01msklearn\u001b[39;00m\u001b[34;01m.\u001b[39;00m\u001b[34;01mmodel_selection\u001b[39;00m\u001b[38;5;250m \u001b[39m\u001b[38;5;28;01mimport\u001b[39;00m train_test_split\n\u001b[32m      3\u001b[39m \u001b[38;5;28;01mfrom\u001b[39;00m\u001b[38;5;250m \u001b[39m\u001b[34;01msklearn\u001b[39;00m\u001b[34;01m.\u001b[39;00m\u001b[34;01mpreprocessing\u001b[39;00m\u001b[38;5;250m \u001b[39m\u001b[38;5;28;01mimport\u001b[39;00m LabelEncoder\n\u001b[32m      4\u001b[39m \u001b[38;5;28;01mfrom\u001b[39;00m\u001b[38;5;250m \u001b[39m\u001b[34;01msklearn\u001b[39;00m\u001b[34;01m.\u001b[39;00m\u001b[34;01msvm\u001b[39;00m\u001b[38;5;250m \u001b[39m\u001b[38;5;28;01mimport\u001b[39;00m SVC\n",
      "\u001b[31mModuleNotFoundError\u001b[39m: No module named 'sklearn'"
     ]
    }
   ],
   "source": [
    "import pandas as pd\n",
    "from sklearn.model_selection import train_test_split\n",
    "from sklearn.preprocessing import LabelEncoder\n",
    "from sklearn.svm import SVC\n",
    "from sklearn.ensemble import BaggingClassifier\n",
    "from sklearn.metrics import accuracy_score\n",
    "import warnings\n",
    "\n",
    "warnings.filterwarnings('ignore')\n",
    "\n",
    "try:\n",
    "    df_iris = pd.read_csv('iris-full.csv')\n",
    "    print(\"--- Data Iris berhasil dimuat ---\")\n",
    "    print(\"5 baris pertama dari data:\")\n",
    "    print(df_iris.head())\n",
    "    print(\"\\n\")\n",
    "except FileNotFoundError:\n",
    "    print(\"Error: File 'iris-full.csv' tidak ditemukan. Pastikan file ada di folder yang sama.\")\n",
    "    exit()\n",
    "\n",
    "fitur_columns = ['sepal length', 'sepal width', 'petal length', 'petal width']\n",
    "target_column = 'Class'\n",
    "\n",
    "X = df_iris[fitur_columns]\n",
    "y = df_iris[target_column]\n",
    "\n",
    "\n",
    "le = LabelEncoder()\n",
    "y_encoded = le.fit_transform(y)\n",
    "\n",
    "\n",
    "print(\"--- Hasil Encoding Target (y) ---\")\n",
    "for i, class_name in enumerate(le.classes_):\n",
    "    print(f\"'{class_name}' diubah menjadi: {i}\")\n",
    "print(\"\\n\")\n",
    "\n",
    "\n",
    "\n",
    "X_train, X_test, y_train, y_test = train_test_split(X, y_encoded, test_size=0.2, random_state=42)\n",
    "\n",
    "print(\"--- Ukuran Data Setelah Dibagi ---\")\n",
    "print(f\"Data Latih (Train): {X_train.shape[0]} baris\")\n",
    "print(f\"Data Uji (Test):   {X_test.shape[0]} baris\")\n",
    "print(\"\\n\")\n",
    "\n",
    "print(\"--- Memulai Pelatihan Model BaggingClassifier ---\")\n",
    "\n",
    "clf = BaggingClassifier(estimator=SVC(),\n",
    "                        n_estimators=10, \n",
    "                        random_state=0)\n",
    "\n",
    "clf.fit(X_train, y_train)\n",
    "\n",
    "print(\"Model berhasil dilatih!\")\n",
    "print(\"\\n\")\n",
    "\n",
    "y_pred = clf.predict(X_test)\n",
    "\n",
    "accuracy = accuracy_score(y_test, y_pred)\n",
    "print(f\"Akurasi model pada data uji: {accuracy * 100:.2f}%\")\n",
    "print(\"\\n\")\n",
    "\n",
    "\n",
    "data_iris_baru = [[5.1, 3.5, 1.4, 0.2]] # Ini adalah data baris pertama dari dataset iris\n",
    "\n",
    "prediksi_baru = clf.predict(data_iris_baru)\n",
    "\n",
    "nama_kelas_prediksi = le.inverse_transform(prediksi_baru)\n",
    "\n",
    "print(f\"--- Prediksi untuk Data Baru ---\")\n",
    "print(f\"Data input: {data_iris_baru}\")\n",
    "print(f\"Hasil prediksi (angka): {prediksi_baru[0]}\")\n",
    "print(f\"Hasil prediksi (nama kelas): '{nama_kelas_prediksi[0]}'\")\n"
   ]
  }
 ],
 "metadata": {
  "kernelspec": {
   "display_name": "py311",
   "language": "python",
   "name": "python3"
  },
  "language_info": {
   "codemirror_mode": {
    "name": "ipython",
    "version": 3
   },
   "file_extension": ".py",
   "mimetype": "text/x-python",
   "name": "python",
   "nbconvert_exporter": "python",
   "pygments_lexer": "ipython3",
   "version": "3.12.0"
  }
 },
 "nbformat": 4,
 "nbformat_minor": 5
}