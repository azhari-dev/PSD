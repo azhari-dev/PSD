{
 "cells": [
  {
   "cell_type": "markdown",
   "id": "3262e9f8",
   "metadata": {},
   "source": [
    "Prepocessing\n",
    "Preprocessing adalah tahap pra-pemrosesan data sebelum data digunakan untuk analisis, pemodelan, atau pelatihan algoritma machine learning. Tujuannya adalah agar data menjadi bersih, konsisten, dan siap dipakai, sehingga model bisa bekerja lebih baik dan hasilnya lebih akurat.\n",
    "\n",
    "Mengapa Preprocessing Penting?\n",
    "Data mentah biasanya tidak rapi (ada nilai kosong, duplikasi, outlier, format berbeda).\n",
    "\n",
    "Algoritma machine learning sensitif terhadap skala, tipe data, dan distribusi data.\n",
    "\n",
    "Preprocessing membuat data:\n",
    "\n",
    "Lebih seragam\n",
    "\n",
    "Lebih mudah dipahami oleh algoritma\n",
    "\n",
    "Mengurangi bias atau error\n",
    "\n",
    "Langkah-langkah Preprocessing (umum)\n",
    "Data Cleaning (Pembersihan Data)\n",
    "\n",
    "Menghapus duplikasi data\n",
    "\n",
    "Menangani nilai kosong (missing value)\n",
    "\n",
    "Menghapus atau memperlakukan outlier\n",
    "\n",
    "Data Transformation (Transformasi Data)\n",
    "\n",
    "Normalisasi atau standarisasi skala (contoh: semua fitur punya skala 0–1 atau rata-rata 0, standar deviasi 1)\n",
    "\n",
    "Encoding data kategorikal ke bentuk numerik (contoh: Male=0, Female=1)\n",
    "\n",
    "Data Reduction (Reduksi Data)\n",
    "\n",
    "Mengurangi dimensi (misalnya PCA)\n",
    "\n",
    "Menghapus fitur yang tidak relevan"
   ]
  },
  {
   "cell_type": "markdown",
   "id": "6a610e7f",
   "metadata": {},
   "source": [
    "# 1. Pengumpulan Data"
   ]
  },
  {
   "cell_type": "code",
   "execution_count": 1,
   "id": "5031f11b",
   "metadata": {},
   "outputs": [
    {
     "ename": "ModuleNotFoundError",
     "evalue": "No module named 'pymysql'",
     "output_type": "error",
     "traceback": [
      "\u001b[31m-------------------------------------------------\u001b[39m",
      "\u001b[31mModuleNotFoundError\u001b[39mTraceback (most recent call last)",
      "\u001b[36mCell\u001b[39m\u001b[36m \u001b[39m\u001b[32mIn[1]\u001b[39m\u001b[32m, line 16\u001b[39m\n\u001b[32m     13\u001b[39m PG_PASSWORD = \u001b[33m\"\u001b[39m\u001b[33mAVNS_cAY9-ITh6Sy3eujURVI\u001b[39m\u001b[33m\"\u001b[39m\n\u001b[32m     14\u001b[39m PG_DATABASE = \u001b[33m\"\u001b[39m\u001b[33mdefaultdb\u001b[39m\u001b[33m\"\u001b[39m\n\u001b[32m---> \u001b[39m\u001b[32m16\u001b[39m mysql_engine = \u001b[43mcreate_engine\u001b[49m\u001b[43m(\u001b[49m\n\u001b[32m     17\u001b[39m \u001b[43m    \u001b[49m\u001b[33;43mf\u001b[39;49m\u001b[33;43m\"\u001b[39;49m\u001b[33;43mmysql+pymysql://\u001b[39;49m\u001b[38;5;132;43;01m{\u001b[39;49;00m\u001b[43mMYSQL_USER\u001b[49m\u001b[38;5;132;43;01m}\u001b[39;49;00m\u001b[33;43m:\u001b[39;49m\u001b[38;5;132;43;01m{\u001b[39;49;00m\u001b[43mMYSQL_PASSWORD\u001b[49m\u001b[38;5;132;43;01m}\u001b[39;49;00m\u001b[33;43m@\u001b[39;49m\u001b[38;5;132;43;01m{\u001b[39;49;00m\u001b[43mMYSQL_HOST\u001b[49m\u001b[38;5;132;43;01m}\u001b[39;49;00m\u001b[33;43m:\u001b[39;49m\u001b[38;5;132;43;01m{\u001b[39;49;00m\u001b[43mMYSQL_PORT\u001b[49m\u001b[38;5;132;43;01m}\u001b[39;49;00m\u001b[33;43m/\u001b[39;49m\u001b[38;5;132;43;01m{\u001b[39;49;00m\u001b[43mMYSQL_DATABASE\u001b[49m\u001b[38;5;132;43;01m}\u001b[39;49;00m\u001b[33;43m\"\u001b[39;49m\n\u001b[32m     18\u001b[39m \u001b[43m)\u001b[49m\n\u001b[32m     20\u001b[39m pg_engine = create_engine(\n\u001b[32m     21\u001b[39m     \u001b[33mf\u001b[39m\u001b[33m\"\u001b[39m\u001b[33mpostgresql+psycopg2://\u001b[39m\u001b[38;5;132;01m{\u001b[39;00mPG_USER\u001b[38;5;132;01m}\u001b[39;00m\u001b[33m:\u001b[39m\u001b[38;5;132;01m{\u001b[39;00mPG_PASSWORD\u001b[38;5;132;01m}\u001b[39;00m\u001b[33m@\u001b[39m\u001b[38;5;132;01m{\u001b[39;00mPG_HOST\u001b[38;5;132;01m}\u001b[39;00m\u001b[33m:\u001b[39m\u001b[38;5;132;01m{\u001b[39;00mPG_PORT\u001b[38;5;132;01m}\u001b[39;00m\u001b[33m/\u001b[39m\u001b[38;5;132;01m{\u001b[39;00mPG_DATABASE\u001b[38;5;132;01m}\u001b[39;00m\u001b[33m\"\u001b[39m\n\u001b[32m     22\u001b[39m )\n\u001b[32m     24\u001b[39m mysql_query = \u001b[33m\"\u001b[39m\u001b[33mSELECT * FROM iris_mysql;\u001b[39m\u001b[33m\"\u001b[39m\n",
      "\u001b[36mFile \u001b[39m\u001b[32m<string>:2\u001b[39m, in \u001b[36mcreate_engine\u001b[39m\u001b[34m(url, **kwargs)\u001b[39m\n",
      "\u001b[36mFile \u001b[39m\u001b[32m~\\AppData\\Local\\Programs\\Python\\Python312\\Lib\\site-packages\\sqlalchemy\\util\\deprecations.py:281\u001b[39m, in \u001b[36mdeprecated_params.<locals>.decorate.<locals>.warned\u001b[39m\u001b[34m(fn, *args, **kwargs)\u001b[39m\n\u001b[32m    274\u001b[39m     \u001b[38;5;28;01mif\u001b[39;00m m \u001b[38;5;129;01min\u001b[39;00m kwargs:\n\u001b[32m    275\u001b[39m         _warn_with_version(\n\u001b[32m    276\u001b[39m             messages[m],\n\u001b[32m    277\u001b[39m             versions[m],\n\u001b[32m    278\u001b[39m             version_warnings[m],\n\u001b[32m    279\u001b[39m             stacklevel=\u001b[32m3\u001b[39m,\n\u001b[32m    280\u001b[39m         )\n\u001b[32m--> \u001b[39m\u001b[32m281\u001b[39m \u001b[38;5;28;01mreturn\u001b[39;00m \u001b[43mfn\u001b[49m\u001b[43m(\u001b[49m\u001b[43m*\u001b[49m\u001b[43margs\u001b[49m\u001b[43m,\u001b[49m\u001b[43m \u001b[49m\u001b[43m*\u001b[49m\u001b[43m*\u001b[49m\u001b[43mkwargs\u001b[49m\u001b[43m)\u001b[49m\n",
      "\u001b[36mFile \u001b[39m\u001b[32m~\\AppData\\Local\\Programs\\Python\\Python312\\Lib\\site-packages\\sqlalchemy\\engine\\create.py:617\u001b[39m, in \u001b[36mcreate_engine\u001b[39m\u001b[34m(url, **kwargs)\u001b[39m\n\u001b[32m    615\u001b[39m         \u001b[38;5;28;01mif\u001b[39;00m k \u001b[38;5;129;01min\u001b[39;00m kwargs:\n\u001b[32m    616\u001b[39m             dbapi_args[k] = pop_kwarg(k)\n\u001b[32m--> \u001b[39m\u001b[32m617\u001b[39m     dbapi = \u001b[43mdbapi_meth\u001b[49m\u001b[43m(\u001b[49m\u001b[43m*\u001b[49m\u001b[43m*\u001b[49m\u001b[43mdbapi_args\u001b[49m\u001b[43m)\u001b[49m\n\u001b[32m    619\u001b[39m dialect_args[\u001b[33m\"\u001b[39m\u001b[33mdbapi\u001b[39m\u001b[33m\"\u001b[39m] = dbapi\n\u001b[32m    621\u001b[39m dialect_args.setdefault(\u001b[33m\"\u001b[39m\u001b[33mcompiler_linting\u001b[39m\u001b[33m\"\u001b[39m, compiler.NO_LINTING)\n",
      "\u001b[36mFile \u001b[39m\u001b[32m~\\AppData\\Local\\Programs\\Python\\Python312\\Lib\\site-packages\\sqlalchemy\\dialects\\mysql\\pymysql.py:89\u001b[39m, in \u001b[36mMySQLDialect_pymysql.import_dbapi\u001b[39m\u001b[34m(cls)\u001b[39m\n\u001b[32m     87\u001b[39m \u001b[38;5;129m@classmethod\u001b[39m\n\u001b[32m     88\u001b[39m \u001b[38;5;28;01mdef\u001b[39;00m\u001b[38;5;250m \u001b[39m\u001b[34mimport_dbapi\u001b[39m(\u001b[38;5;28mcls\u001b[39m) -> DBAPIModule:\n\u001b[32m---> \u001b[39m\u001b[32m89\u001b[39m     \u001b[38;5;28;01mreturn\u001b[39;00m \u001b[38;5;28;43m__import__\u001b[39;49m\u001b[43m(\u001b[49m\u001b[33;43m\"\u001b[39;49m\u001b[33;43mpymysql\u001b[39;49m\u001b[33;43m\"\u001b[39;49m\u001b[43m)\u001b[49m\n",
      "\u001b[31mModuleNotFoundError\u001b[39m: No module named 'pymysql'"
     ]
    }
   ],
   "source": [
    "import pandas as pd\n",
    "from sqlalchemy import create_engine\n",
    "\n",
    "MYSQL_HOST = \"database-aplikasi-saya-mysql-muhammadazhariii1209-4402.j.aivencloud.com\"\n",
    "MYSQL_PORT = 14467\n",
    "MYSQL_USER = \"avnadmin\"\n",
    "MYSQL_PASSWORD = \"AVNS_-m75fnNFJLYQ3JbqMc4\"\n",
    "MYSQL_DATABASE = \"defaultdb\"\n",
    "\n",
    "PG_HOST = \"database-aplikasi-saya-muhammadazhariii1209-4402.j.aivencloud.com\"\n",
    "PG_PORT = 14467\n",
    "PG_USER = \"avnadmin\"\n",
    "PG_PASSWORD = \"AVNS_cAY9-ITh6Sy3eujURVI\"\n",
    "PG_DATABASE = \"defaultdb\"\n",
    "\n",
    "mysql_engine = create_engine(\n",
    "    f\"mysql+pymysql://{MYSQL_USER}:{MYSQL_PASSWORD}@{MYSQL_HOST}:{MYSQL_PORT}/{MYSQL_DATABASE}\"\n",
    ")\n",
    "\n",
    "pg_engine = create_engine(\n",
    "    f\"postgresql+psycopg2://{PG_USER}:{PG_PASSWORD}@{PG_HOST}:{PG_PORT}/{PG_DATABASE}\"\n",
    ")\n",
    "\n",
    "mysql_query = \"SELECT * FROM iris_mysql;\"\n",
    "df_mysql = pd.read_sql(mysql_query, mysql_engine)\n",
    "\n",
    "pg_query = \"SELECT * FROM iris_postgre;\"\n",
    "df_postgres = pd.read_sql(pg_query, pg_engine)\n",
    "\n",
    "print(\"Data dari MySQL:\")\n",
    "print(df_mysql.head())\n",
    "\n",
    "print(\"\\nData dari PostgreSQL:\")\n",
    "print(df_postgres.head())"
   ]
  },
  {
   "cell_type": "code",
   "execution_count": 2,
   "id": "7c66437e",
   "metadata": {},
   "outputs": [
    {
     "name": "stdout",
     "output_type": "stream",
     "text": [
      "Data dari MySQL:\n",
      "   id        Class  petal length  petal width\n",
      "0   1  Iris-setosa           1.4          0.2\n",
      "1   2  Iris-setosa           1.4          0.2\n",
      "2   3  Iris-setosa           1.3          0.2\n",
      "3   4  Iris-setosa           1.5          0.2\n",
      "4   5  Iris-setosa           1.4          0.2\n",
      "\n",
      " Data dari PostgreSQL:\n",
      "   id        Class  sepal length  sepal width\n",
      "0   1  Iris-setosa           5.1          3.5\n",
      "1   2  Iris-setosa           4.9          3.0\n",
      "2   3  Iris-setosa           4.7          3.2\n",
      "3   4  Iris-setosa           4.6          3.1\n",
      "4   5  Iris-setosa           5.0          3.6\n",
      "\n",
      "Data gabungan:\n",
      "      id           Class  sepal length  sepal width  petal length  petal width\n",
      "0      1     Iris-setosa           5.1          3.5           1.4          0.2\n",
      "1      2     Iris-setosa           4.9          3.0           1.4          0.2\n",
      "2      3     Iris-setosa           4.7          3.2           1.3          0.2\n",
      "3      4     Iris-setosa           4.6          3.1           1.5          0.2\n",
      "4      5     Iris-setosa           5.0          3.6           1.4          0.2\n",
      "..   ...             ...           ...          ...           ...          ...\n",
      "145  146  Iris-virginica           6.7          3.0           5.2          2.3\n",
      "146  147  Iris-virginica           6.3          2.5           5.0          1.9\n",
      "147  148  Iris-virginica           6.5          3.0           5.2          2.0\n",
      "148  149  Iris-virginica           6.2          3.4           5.4          2.3\n",
      "149  150  Iris-virginica           5.9          3.0           5.1          1.8\n",
      "\n",
      "[150 rows x 6 columns]\n"
     ]
    }
   ],
   "source": [
    "import os\n",
    "mysql_query = \"SELECT * FROM iris_mysql;\"\n",
    "df_mysql = pd.read_sql(mysql_query, mysql_engine)\n",
    "\n",
    "pg_query = \"SELECT * FROM iris_postgre;\"\n",
    "df_postgres = pd.read_sql(pg_query, pg_engine)\n",
    "\n",
    "# Print hasil query\n",
    "print(\"Data dari MySQL:\")\n",
    "print(df_mysql.head())\n",
    "\n",
    "print(\"\\n Data dari PostgreSQL:\")\n",
    "print(df_postgres.head())\n",
    "\n",
    "#Menghapus file yang di upload sebelumnya\n",
    "if os.path.exists(\".env\"):\n",
    "    os.remove(\".env\")\n",
    "\n",
    "\n",
    "df_combined = pd.merge(df_postgres, df_mysql.drop(columns=['Class']), on=\"id\", how=\"inner\")\n",
    "\n",
    "print(\"\\nData gabungan:\")\n",
    "print(df_combined)"
   ]
  }
 ],
 "metadata": {
  "kernelspec": {
   "display_name": "py311",
   "language": "python",
   "name": "python3"
  },
  "language_info": {
   "codemirror_mode": {
    "name": "ipython",
    "version": 3
   },
   "file_extension": ".py",
   "mimetype": "text/x-python",
   "name": "python",
   "nbconvert_exporter": "python",
   "pygments_lexer": "ipython3",
   "version": "3.12.0"
  }
 },
 "nbformat": 4,
 "nbformat_minor": 5
}