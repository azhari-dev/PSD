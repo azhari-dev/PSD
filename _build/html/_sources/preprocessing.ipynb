{
 "cells": [
  {
   "cell_type": "markdown",
   "id": "fee0a2a9",
   "metadata": {},
   "source": [
    "# Preprocessing Data (NO2 Sidoarjo)\n",
    "\n",
    "Pada khasus ini data di processing dengan 2 cara menangani data **missing value** dan membuat data menjadi **supervised**"
   ]
  },
  {
   "cell_type": "code",
   "execution_count": 1,
   "id": "95d962a6",
   "metadata": {},
   "outputs": [],
   "source": [
    "import pandas as pd\n",
    "import matplotlib.pyplot as plt\n",
    "import os"
   ]
  },
  {
   "cell_type": "markdown",
   "id": "60a3eda2",
   "metadata": {},
   "source": [
    "## 1.1 Menangani Missing Value\n",
    "Untuk menjaga kontinuitas data deret waktu (time series) dan memastikan model prediksi dapat belajar dengan baik dari pola historis, nilai NO₂ yang hilang akan ditangani menggunakan metode interpolasi.\n",
    "\n",
    "Metode interpolasi linier (```linear interpolation```) dipilih karena:\n",
    "- Dapat memperkirakan nilai hilang berdasarkan tren perubahan sebelum dan sesudah tanggal yang kosong.\n",
    "- Cocok untuk data lingkungan yang memiliki perubahan relatif halus dari hari ke hari.\n",
    "- Tidak mengubah struktur temporal dataset, sehingga tetap menjaga urutan kronologis data."
   ]
  },
  {
   "cell_type": "markdown",
   "id": "b20663a8",
   "metadata": {},
   "source": [
    "### Contoh Data"
   ]
  },
  {
   "cell_type": "code",
   "execution_count": 3,
   "id": "6216e336",
   "metadata": {},
   "outputs": [
    {
     "data": {
      "text/html": [
       "<div>\n",
       "<style scoped>\n",
       "    .dataframe tbody tr th:only-of-type {\n",
       "        vertical-align: middle;\n",
       "    }\n",
       "\n",
       "    .dataframe tbody tr th {\n",
       "        vertical-align: top;\n",
       "    }\n",
       "\n",
       "    .dataframe thead th {\n",
       "        text-align: right;\n",
       "    }\n",
       "</style>\n",
       "<table border=\"1\" class=\"dataframe\">\n",
       "  <thead>\n",
       "    <tr style=\"text-align: right;\">\n",
       "      <th></th>\n",
       "      <th>date</th>\n",
       "      <th>feature_index</th>\n",
       "      <th>NO2</th>\n",
       "    </tr>\n",
       "  </thead>\n",
       "  <tbody>\n",
       "    <tr>\n",
       "      <th>0</th>\n",
       "      <td>2022-09-30</td>\n",
       "      <td>0</td>\n",
       "      <td>NaN</td>\n",
       "    </tr>\n",
       "    <tr>\n",
       "      <th>1</th>\n",
       "      <td>2022-10-01</td>\n",
       "      <td>0</td>\n",
       "      <td>NaN</td>\n",
       "    </tr>\n",
       "    <tr>\n",
       "      <th>2</th>\n",
       "      <td>2022-10-02</td>\n",
       "      <td>0</td>\n",
       "      <td>0.000048</td>\n",
       "    </tr>\n",
       "    <tr>\n",
       "      <th>3</th>\n",
       "      <td>2022-10-03</td>\n",
       "      <td>0</td>\n",
       "      <td>0.000040</td>\n",
       "    </tr>\n",
       "    <tr>\n",
       "      <th>4</th>\n",
       "      <td>2022-10-04</td>\n",
       "      <td>0</td>\n",
       "      <td>NaN</td>\n",
       "    </tr>\n",
       "    <tr>\n",
       "      <th>...</th>\n",
       "      <td>...</td>\n",
       "      <td>...</td>\n",
       "      <td>...</td>\n",
       "    </tr>\n",
       "    <tr>\n",
       "      <th>1092</th>\n",
       "      <td>2025-09-26</td>\n",
       "      <td>0</td>\n",
       "      <td>0.000030</td>\n",
       "    </tr>\n",
       "    <tr>\n",
       "      <th>1093</th>\n",
       "      <td>2025-09-27</td>\n",
       "      <td>0</td>\n",
       "      <td>0.000036</td>\n",
       "    </tr>\n",
       "    <tr>\n",
       "      <th>1094</th>\n",
       "      <td>2025-09-28</td>\n",
       "      <td>0</td>\n",
       "      <td>0.000015</td>\n",
       "    </tr>\n",
       "    <tr>\n",
       "      <th>1095</th>\n",
       "      <td>2025-09-29</td>\n",
       "      <td>0</td>\n",
       "      <td>0.000031</td>\n",
       "    </tr>\n",
       "    <tr>\n",
       "      <th>1096</th>\n",
       "      <td>2025-09-30</td>\n",
       "      <td>0</td>\n",
       "      <td>0.000014</td>\n",
       "    </tr>\n",
       "  </tbody>\n",
       "</table>\n",
       "<p>1097 rows × 3 columns</p>\n",
       "</div>"
      ],
      "text/plain": [
       "            date  feature_index       NO2\n",
       "0     2022-09-30              0       NaN\n",
       "1     2022-10-01              0       NaN\n",
       "2     2022-10-02              0  0.000048\n",
       "3     2022-10-03              0  0.000040\n",
       "4     2022-10-04              0       NaN\n",
       "...          ...            ...       ...\n",
       "1092  2025-09-26              0  0.000030\n",
       "1093  2025-09-27              0  0.000036\n",
       "1094  2025-09-28              0  0.000015\n",
       "1095  2025-09-29              0  0.000031\n",
       "1096  2025-09-30              0  0.000014\n",
       "\n",
       "[1097 rows x 3 columns]"
      ]
     },
     "execution_count": 3,
     "metadata": {},
     "output_type": "execute_result"
    }
   ],
   "source": [
    "new_df = pd.read_csv('data-copernicus/timeseries.csv')\n",
    "new_df = new_df.sort_values(by='date').reset_index(drop=True)\n",
    "new_df['date'] = pd.to_datetime(new_df['date']).dt.date\n",
    "new_df"
   ]
  },
  {
   "cell_type": "code",
   "execution_count": 4,
   "metadata": {},
   "outputs": [
    {
     "name": "stderr",
     "output_type": "stream",
     "text": [
      "C:\\Users\\Harseven\\AppData\\Local\\Temp\\ipykernel_15780\\1178675646.py:12: FutureWarning: Series.__getitem__ treating keys as positions is deprecated. In a future version, integer keys will always be treated as labels (consistent with DataFrame behavior). To access a value by position, use `ser.iloc[pos]`\n",
      "  ax.text(i, v + 0.5, f\"{v} ({missing_percent[i]:.1f}%)\",\n"
     ]
    },
    {
     "data": {
      "image/png": "[encoded data removed]",
      "text/plain": [
       "<Figure size 700x500 with 1 Axes>"
      ]
     },
     "metadata": {},
     "output_type": "display_data"
    },
    {
     "data": {
      "text/html": [
       "<div>\n",
       "<style scoped>\n",
       "    .dataframe tbody tr th:only-of-type {\n",
       "        vertical-align: middle;\n",
       "    }\n",
       "\n",
       "    .dataframe tbody tr th {\n",
       "        vertical-align: top;\n",
       "    }\n",
       "\n",
       "    .dataframe thead th {\n",
       "        text-align: right;\n",
       "    }\n",
       "</style>\n",
       "<table border=\"1\" class=\"dataframe\">\n",
       "  <thead>\n",
       "    <tr style=\"text-align: right;\">\n",
       "      <th></th>\n",
       "      <th>Missing Count</th>\n",
       "      <th>Missing Percent (%)</th>\n",
       "    </tr>\n",
       "  </thead>\n",
       "  <tbody>\n",
       "    <tr>\n",
       "      <th>date</th>\n",
       "      <td>0</td>\n",
       "      <td>0.00</td>\n",
       "    </tr>\n",
       "    <tr>\n",
       "      <th>feature_index</th>\n",
       "      <td>0</td>\n",
       "      <td>0.00</td>\n",
       "    </tr>\n",
       "    <tr>\n",
       "      <th>NO2</th>\n",
       "      <td>254</td>\n",
       "      <td>23.15</td>\n",
       "    </tr>\n",
       "  </tbody>\n",
       "</table>\n",
       "</div>"
      ],
      "text/plain": [
       "               Missing Count  Missing Percent (%)\n",
       "date                       0                 0.00\n",
       "feature_index              0                 0.00\n",
       "NO2                      254                23.15"
      ]
     },
     "execution_count": 4,
     "metadata": {},
     "output_type": "execute_result"
    }
   ],
   "source": [
    "missing_count = new_df.isnull().sum()\n",
    "missing_percent = (missing_count / len(new_df)) * 100\n",
    "\n",
    "fig, ax = plt.subplots(figsize=(7,5))\n",
    "\n",
    "bars = ax.bar(missing_count.index, missing_count)\n",
    "\n",
    "ax.set_title(\"Frekuensi Missing Values per Kolom\")\n",
    "ax.set_ylabel(\"Jumlah Missing\")\n",
    "\n",
    "for i, v in enumerate(missing_count):\n",
    "    ax.text(i, v + 0.5, f\"{v} ({missing_percent[i]:.1f}%)\",\n",
    "            ha='center', va='bottom', fontsize=9)\n",
    "\n",
    "plt.tight_layout()\n",
    "plt.show()\n",
    "\n",
    "missing_table = pd.DataFrame({\n",
    "    'Missing Count': missing_count,\n",
    "    'Missing Percent (%)': missing_percent.round(2)\n",
    "})\n",
    "\n",
    "missing_table"
   ]
  },
  {
   "cell_type": "code",
   "execution_count": 5,
   "id": "0b62a3c2",
   "metadata": {},
   "outputs": [
    {
     "data": {
      "text/html": [
       "<div>\n",
       "<style scoped>\n",
       "    .dataframe tbody tr th:only-of-type {\n",
       "        vertical-align: middle;\n",
       "    }\n",
       "\n",
       "    .dataframe tbody tr th {\n",
       "        vertical-align: top;\n",
       "    }\n",
       "\n",
       "    .dataframe thead th {\n",
       "        text-align: right;\n",
       "    }\n",
       "</style>\n",
       "<table border=\"1\" class=\"dataframe\">\n",
       "  <thead>\n",
       "    <tr style=\"text-align: right;\">\n",
       "      <th></th>\n",
       "      <th>date</th>\n",
       "      <th>NO2</th>\n",
       "    </tr>\n",
       "  </thead>\n",
       "  <tbody>\n",
       "    <tr>\n",
       "      <th>0</th>\n",
       "      <td>2022-09-30</td>\n",
       "      <td>0.000048</td>\n",
       "    </tr>\n",
       "    <tr>\n",
       "      <th>1</th>\n",
       "      <td>2022-10-01</td>\n",
       "      <td>0.000048</td>\n",
       "    </tr>\n",
       "    <tr>\n",
       "      <th>2</th>\n",
       "      <td>2022-10-02</td>\n",
       "      <td>0.000048</td>\n",
       "    </tr>\n",
       "    <tr>\n",
       "      <th>3</th>\n",
       "      <td>2022-10-03</td>\n",
       "      <td>0.000040</td>\n",
       "    </tr>\n",
       "    <tr>\n",
       "      <th>4</th>\n",
       "      <td>2022-10-04</td>\n",
       "      <td>0.000039</td>\n",
       "    </tr>\n",
       "    <tr>\n",
       "      <th>...</th>\n",
       "      <td>...</td>\n",
       "      <td>...</td>\n",
       "    </tr>\n",
       "    <tr>\n",
       "      <th>1092</th>\n",
       "      <td>2025-09-26</td>\n",
       "      <td>0.000030</td>\n",
       "    </tr>\n",
       "    <tr>\n",
       "      <th>1093</th>\n",
       "      <td>2025-09-27</td>\n",
       "      <td>0.000036</td>\n",
       "    </tr>\n",
       "    <tr>\n",
       "      <th>1094</th>\n",
       "      <td>2025-09-28</td>\n",
       "      <td>0.000015</td>\n",
       "    </tr>\n",
       "    <tr>\n",
       "      <th>1095</th>\n",
       "      <td>2025-09-29</td>\n",
       "      <td>0.000031</td>\n",
       "    </tr>\n",
       "    <tr>\n",
       "      <th>1096</th>\n",
       "      <td>2025-09-30</td>\n",
       "      <td>0.000014</td>\n",
       "    </tr>\n",
       "  </tbody>\n",
       "</table>\n",
       "<p>1097 rows × 2 columns</p>\n",
       "</div>"
      ],
      "text/plain": [
       "            date       NO2\n",
       "0     2022-09-30  0.000048\n",
       "1     2022-10-01  0.000048\n",
       "2     2022-10-02  0.000048\n",
       "3     2022-10-03  0.000040\n",
       "4     2022-10-04  0.000039\n",
       "...          ...       ...\n",
       "1092  2025-09-26  0.000030\n",
       "1093  2025-09-27  0.000036\n",
       "1094  2025-09-28  0.000015\n",
       "1095  2025-09-29  0.000031\n",
       "1096  2025-09-30  0.000014\n",
       "\n",
       "[1097 rows x 2 columns]"
      ]
     },
     "execution_count": 5,
     "metadata": {},
     "output_type": "execute_result"
    }
   ],
   "source": [
    "new_df = pd.Series(new_df['NO2'].values, index=new_df['date'], name='NO2')\n",
    "new_df = new_df.interpolate(method='linear').bfill()\n",
    "new_df = pd.DataFrame(new_df).reset_index()\n",
    "new_df.to_csv(\"data-copernicus/timeseries_cleaned.csv\")\n",
    "new_df"
   ]
  },
  {
   "cell_type": "code",
   "execution_count": 6,
   "id": "1bb40af8",
   "metadata": {},
   "outputs": [
    {
     "data": {
      "text/html": [
       "<div>\n",
       "<style scoped>\n",
       "    .dataframe tbody tr th:only-of-type {\n",
       "        vertical-align: middle;\n",
       "    }\n",
       "\n",
       "    .dataframe tbody tr th {\n",
       "        vertical-align: top;\n",
       "    }\n",
       "\n",
       "    .dataframe thead th {\n",
       "        text-align: right;\n",
       "    }\n",
       "</style>\n",
       "<table border=\"1\" class=\"dataframe\">\n",
       "  <thead>\n",
       "    <tr style=\"text-align: right;\">\n",
       "      <th></th>\n",
       "      <th>Missing Count</th>\n",
       "      <th>Missing Percent (%)</th>\n",
       "    </tr>\n",
       "  </thead>\n",
       "  <tbody>\n",
       "    <tr>\n",
       "      <th>date</th>\n",
       "      <td>0</td>\n",
       "      <td>0.0</td>\n",
       "    </tr>\n",
       "    <tr>\n",
       "      <th>NO2</th>\n",
       "      <td>0</td>\n",
       "      <td>0.0</td>\n",
       "    </tr>\n",
       "  </tbody>\n",
       "</table>\n",
       "</div>"
      ],
      "text/plain": [
       "      Missing Count  Missing Percent (%)\n",
       "date              0                  0.0\n",
       "NO2               0                  0.0"
      ]
     },
     "execution_count": 6,
     "metadata": {},
     "output_type": "execute_result"
    }
   ],
   "source": [
    "missing_count = new_df.isnull().sum()\n",
    "missing_percent = (missing_count / len(new_df)) * 100\n",
    "\n",
    "missing_table = pd.DataFrame({\n",
    "    'Missing Count': missing_count,\n",
    "    'Missing Percent (%)': missing_percent.round(2)\n",
    "})\n",
    "\n",
    "missing_table"
   ]
  },
  {
   "cell_type": "markdown",
   "id": "593c3793",
   "metadata": {},
   "source": [
    "Setelah dilakukan proses interpolasi linier pada kolom NO₂, hasil pemeriksaan ulang terhadap data menunjukkan bahwa seluruh nilai yang hilang telah berhasil terisi.\n",
    "\n",
    "Dengan demikian, dataset kini bersih dari missing value dan siap digunakan untuk tahap selanjutnya, yaitu pemodelan prediksi konsentrasi NO₂ menggunakan pendekatan K-Nearest Neighbors (KNN) Regression."
   ]
  },
  {
   "cell_type": "markdown",
   "id": "7a80237a",
   "metadata": {},
   "source": [
    "## 1.2 Convert Supervised Learning\n",
    "Dalam proyek ini, dilakukan proses konversi data time series menjadi bentuk supervised learning menggunakan Python. Konversi ini bertujuan agar data time series dapat digunakan untuk model prediksi berbasis machine learning seperti regresi atau neural network.\n",
    "\n",
    "Pada dasarnya, data time series hanya berisi nilai urutan waktu, sedangkan supervised learning membutuhkan pasangan input (X) dan output (y). Oleh karena itu, proses konversi dilakukan dengan cara menggeser nilai waktu sebelumnya menjadi fitur (lag features).\n",
    "\n",
    "Dalam kasus ini saya bereksperiment 2 - 5 hari sebelum nya menjadi fitur"
   ]
  },
  {
   "cell_type": "markdown",
   "id": "3253b98a",
   "metadata": {},
   "source": [
    "### Langkah - Langkah\n",
    "**Menginisialisasi day 2 - 5**"
   ]
  },
  {
   "cell_type": "code",
   "execution_count": null,
   "id": "e25de519",
   "metadata": {},
   "outputs": [],
   "source": [
    "day2 = new_df\n",
    "day3 = new_df\n",
    "day4 = new_df\n",
    "day5 = new_df"
   ]
  },
  {
   "cell_type": "markdown",
   "id": "bd70c04a",
   "metadata": {},
   "source": [
    "**Membuat data supervised menggunakan t1, t2**"
   ]
  },
  {
   "cell_type": "code",
   "execution_count": null,
   "id": "152366b1",
   "metadata": {},
   "outputs": [],
   "source": [
    "day2 = day2.drop(columns=['date'])\n",
    "n = 2\n",
    "\n",
    "for i in range(1, n + 1):\n",
    "    names = f\"t{i}\"\n",
    "    day2[names] = day2['NO2'].shift(i)\n",
    "\n",
    "day2 = day2.dropna().reset_index(drop=True)\n",
    "day2"
   ]
  },
  {
   "cell_type": "markdown",
   "id": "41c3fe3b",
   "metadata": {},
   "source": [
    "**Membuat data supervised menggunakan t1, t2, t3**"
   ]
  },
  {
   "cell_type": "code",
   "execution_count": null,
   "id": "224d2f76",
   "metadata": {},
   "outputs": [],
   "source": [
    "day3 = day3.drop(columns=['date'])\n",
    "n = 3\n",
    "\n",
    "for i in range(1, n + 1):\n",
    "    names = f\"t{i}\"\n",
    "    day3[names] = day3['NO2'].shift(i)\n",
    "\n",
    "day3 = day3.dropna().reset_index(drop=True)\n",
    "day3"
   ]
  },
  {
   "cell_type": "markdown",
   "id": "32cade93",
   "metadata": {},
   "source": [
    "**Membuat data supervised menggunakan t1, t2, t3, t4**"
   ]
  },
  {
   "cell_type": "code",
   "execution_count": null,
   "id": "9bdd105b",
   "metadata": {},
   "outputs": [],
   "source": [
    "day4 = day4.drop(columns=['date'])\n",
    "n = 4\n",
    "\n",
    "for i in range(1, n + 1):\n",
    "    names = f\"t{i}\"\n",
    "    day4[names] = day4['NO2'].shift(i)\n",
    "\n",
    "day4 = day4.dropna().reset_index(drop=True)\n",
    "day4"
   ]
  },
  {
   "cell_type": "markdown",
   "id": "af26c273",
   "metadata": {},
   "source": [
    "*** embuat data supervised menggunakan t1, t2, t3, t4, t5"
   ]
  },
  {
   "cell_type": "code",
   "execution_count": null,
   "id": "d2b4273f",
   "metadata": {},
   "outputs": [],
   "source": [
    "day5 = day5.drop(columns=['date'])\n",
    "# new_df\n",
    "n = 5\n",
    "\n",
    "for i in range(1, n + 1):\n",
    "    names = f\"t{i}\"\n",
    "    day5[names] = day5['NO2'].shift(i)\n",
    "\n",
    "day5 = day5.dropna().reset_index(drop=True)\n",
    "day5"
   ]
  }
 ],
 "metadata": {
  "kernelspec": {
   "display_name": "knime_env",
   "language": "python",
   "name": "python3"
  },
  "language_info": {
   "codemirror_mode": {
    "name": "ipython",
    "version": 3
   },
   "file_extension": ".py",
   "mimetype": "text/x-python",
   "name": "python",
   "nbconvert_exporter": "python",
   "pygments_lexer": "ipython3",
   "version": "3.9.24"
  }
 },
 "nbformat": 4,
 "nbformat_minor": 5
}
