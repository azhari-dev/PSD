{
 "cells": [
  {
   "cell_type": "markdown",
   "id": "6f9df57e",
   "metadata": {},
   "source": [
    "# Imbalanced-Learn"
   ]
  },
  {
   "cell_type": "markdown",
   "id": "39ebc26c",
   "metadata": {},
   "source": [
    "Kurangi class setosa menjadi 15 data Implementasikan ADASYN untuk menyeimbangkan data Sedang 1% - 20%\n",
    "\n",
    "Membandingkan hasil klasifikasi dataset yang tidak balanced (15 50 50) dengan balanced yang sudah dipreprocessing (50 50 50)"
   ]
  },
  {
   "cell_type": "code",
   "execution_count": null,
   "id": "50565637",
   "metadata": {},
   "outputs": [],
   "source": [
    "import pandas as pd\n",
    "import matplotlib.pyplot as plt\n",
    "import seaborn as sns\n",
    "import numpy as np\n",
    "from sqlalchemy import create_engine\n",
    "from sklearn.decomposition import PCA\n",
    "from imblearn.over_sampling import ADASYN"
   ]
  },
  {
   "cell_type": "code",
   "execution_count": null,
   "id": "7b196c28",
   "metadata": {},
   "outputs": [],
   "source": [
    "MYSQL_HOST = \"localhost\"\n",
    "MYSQL_PORT = 3306\n",
    "MYSQL_USER = \"root\"\n",
    "MYSQL_PASSWORD = \"\"\n",
    "MYSQL_DATABASE = \"ecoli\"\n",
    "\n",
    "mysql_engine = create_engine(\n",
    "    f\"mysql+pymysql://{MYSQL_USER}:{MYSQL_PASSWORD}@{MYSQL_HOST}:{MYSQL_PORT}/{MYSQL_DATABASE}\"\n",
    ")\n",
    "\n",
    "mysql_query = \"SELECT * FROM ecoli;\"\n",
    "df_mysql = pd.read_sql(mysql_query, mysql_engine)\n",
    "\n",
    "df_mysql.head()"
   ]
  },
  {
   "cell_type": "code",
   "execution_count": null,
   "id": "8644b18c",
   "metadata": {},
   "outputs": [],
   "source": []
  }
 ],
 "metadata": {
  "kernelspec": {
   "display_name": "py311",
   "language": "python",
   "name": "python3"
  },
  "language_info": {
   "name": "python",
   "version": "3.11.13"
  }
 },
 "nbformat": 4,
 "nbformat_minor": 5
}
