{
 "cells": [
  {
   "cell_type": "markdown",
   "id": "ad83e1af",
   "metadata": {},
   "source": [
    "# Forecasting\n",
    "## Apa Itu Forecasting?\n",
    "**Forecasting** adalah proses **memprediksi kejadian atau nilai di masa depan** berdasarkan data dan tren yang terjadi di masa lalu serta saat ini. Dalam bahasa Indonesia, forecasting sering disebut **peramalan**. Tujuannya adalah memberikan gambaran tentang apa yang mungkin terjadi, sehingga individu atau organisasi dapat **membuat keputusan yang lebih baik dan terencana**.\n",
    "\n",
    "## Mengapa Forecasting Penting?\n",
    "Forecasting digunakan di banyak bidang, seperti bisnis, keuangan, ekonomi, pertanian, bahkan teknologi. Misalnya:\n",
    "- **Perusahaan** menggunakan forecasting untuk memperkirakan **penjualan** atau **permintaan pasar**.\n",
    "- **Investor** memanfaatkan forecasting untuk memprediksi **harga saham** atau **komoditas**.\n",
    "- **Pemerintah** memakai forecasting dalam **perencanaan ekonomi dan anggaran nasional**.\n",
    "\n",
    "Dengan peramalan yang akurat, organisasi dapat **mengurangi risiko, mengoptimalkan sumber daya, dan meningkatkan efisiensi operasional**.\n",
    "\n",
    "## Jenis-Jenis Forecasting\n",
    "1. **Forecasting Kualitatif** Berdasarkan opini, intuisi, atau pengalaman ahli. Cocok digunakan jika data historis tidak banyak. Contoh: Survei pendapat konsumen untuk memperkirakan tren produk baru.\n",
    "\n",
    "2. **Forecasting Kuantitatif** Berdasarkan data numerik dan analisis statistik. Contoh: Menggunakan metode regresi linier atau model time series (ARIMA) untuk memprediksi penjualan bulanan."
   ]
  }
 ],
 "metadata": {
  "language_info": {
   "name": "python"
  }
 },
 "nbformat": 4,
 "nbformat_minor": 5
}
